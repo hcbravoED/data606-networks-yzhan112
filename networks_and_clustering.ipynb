{
 "cells": [
  {
   "cell_type": "markdown",
   "metadata": {},
   "source": [
    "## DATA606: Project 2\n",
    "## Network communities and clustering\n",
    "\n",
    "In this project we will exercise algorithms for network community analysis and clustering. Specifically, we will implement the Girvan-Newman community detection algorithm, and the k-mediods algorithm.\n",
    "\n",
    "**Note**: We will need the igraph package for this. To install use `conda install -c conda_forge igraph-python`\n",
    "\n",
    "Let's grab a toy network to try things out (this is the same network we used to illustrate the Girvan-Newman algorithm in lecture."
   ]
  },
  {
   "cell_type": "code",
   "execution_count": 19,
   "metadata": {},
   "outputs": [
    {
     "name": "stdout",
     "output_type": "stream",
     "text": [
      "The autoreload extension is already loaded. To reload it, use:\n",
      "  %reload_ext autoreload\n"
     ]
    }
   ],
   "source": [
    "%load_ext autoreload\n",
    "%autoreload 2"
   ]
  },
  {
   "cell_type": "code",
   "execution_count": 102,
   "metadata": {},
   "outputs": [
    {
     "ename": "NameError",
     "evalue": "name 'Graph' is not defined",
     "output_type": "error",
     "traceback": [
      "\u001b[0;31m---------------------------------------------------------------------------\u001b[0m",
      "\u001b[0;31mNameError\u001b[0m                                 Traceback (most recent call last)",
      "\u001b[0;32m<ipython-input-102-f9050bc41286>\u001b[0m in \u001b[0;36m<module>\u001b[0;34m()\u001b[0m\n\u001b[1;32m      5\u001b[0m \u001b[0;34m\u001b[0m\u001b[0m\n\u001b[1;32m      6\u001b[0m \u001b[0mtoy_mat\u001b[0m \u001b[0;34m=\u001b[0m \u001b[0mget_toy_mat\u001b[0m\u001b[0;34m(\u001b[0m\u001b[0;34m)\u001b[0m\u001b[0;34m\u001b[0m\u001b[0;34m\u001b[0m\u001b[0m\n\u001b[0;32m----> 7\u001b[0;31m \u001b[0mplot_toy\u001b[0m\u001b[0;34m(\u001b[0m\u001b[0;34m)\u001b[0m\u001b[0;34m\u001b[0m\u001b[0;34m\u001b[0m\u001b[0m\n\u001b[0m",
      "\u001b[0;32m~/Desktop/DATA606/pp2/data606-networks-yzhan112/networks_lib/toygraph.py\u001b[0m in \u001b[0;36mplot_toy\u001b[0;34m()\u001b[0m\n\u001b[1;32m     23\u001b[0m \u001b[0;31m## Plot example toy graph\u001b[0m\u001b[0;34m\u001b[0m\u001b[0;34m\u001b[0m\u001b[0;34m\u001b[0m\u001b[0m\n\u001b[1;32m     24\u001b[0m \u001b[0;32mdef\u001b[0m \u001b[0mplot_toy\u001b[0m\u001b[0;34m(\u001b[0m\u001b[0;34m)\u001b[0m\u001b[0;34m:\u001b[0m\u001b[0;34m\u001b[0m\u001b[0;34m\u001b[0m\u001b[0m\n\u001b[0;32m---> 25\u001b[0;31m     \u001b[0mg\u001b[0m \u001b[0;34m=\u001b[0m \u001b[0mget_toy_graph\u001b[0m\u001b[0;34m(\u001b[0m\u001b[0;34m)\u001b[0m\u001b[0;34m\u001b[0m\u001b[0;34m\u001b[0m\u001b[0m\n\u001b[0m\u001b[1;32m     26\u001b[0m     \u001b[0mlayout\u001b[0m \u001b[0;34m=\u001b[0m \u001b[0mg\u001b[0m\u001b[0;34m.\u001b[0m\u001b[0mlayout\u001b[0m\u001b[0;34m(\u001b[0m\u001b[0;34m\"kk\"\u001b[0m\u001b[0;34m)\u001b[0m\u001b[0;34m\u001b[0m\u001b[0;34m\u001b[0m\u001b[0m\n\u001b[1;32m     27\u001b[0m     \u001b[0;32mreturn\u001b[0m \u001b[0mplot\u001b[0m\u001b[0;34m(\u001b[0m\u001b[0mg\u001b[0m\u001b[0;34m,\u001b[0m \u001b[0mlayout\u001b[0m\u001b[0;34m=\u001b[0m\u001b[0mlayout\u001b[0m\u001b[0;34m,\u001b[0m \u001b[0mbbox\u001b[0m\u001b[0;34m=\u001b[0m\u001b[0;34m(\u001b[0m\u001b[0;36m200\u001b[0m\u001b[0;34m,\u001b[0m\u001b[0;36m200\u001b[0m\u001b[0;34m)\u001b[0m\u001b[0;34m)\u001b[0m\u001b[0;34m\u001b[0m\u001b[0;34m\u001b[0m\u001b[0m\n",
      "\u001b[0;32m~/Desktop/DATA606/pp2/data606-networks-yzhan112/networks_lib/toygraph.py\u001b[0m in \u001b[0;36mget_toy_graph\u001b[0;34m()\u001b[0m\n\u001b[1;32m      5\u001b[0m \u001b[0;32mdef\u001b[0m \u001b[0mget_toy_graph\u001b[0m\u001b[0;34m(\u001b[0m\u001b[0;34m)\u001b[0m\u001b[0;34m:\u001b[0m\u001b[0;34m\u001b[0m\u001b[0;34m\u001b[0m\u001b[0m\n\u001b[1;32m      6\u001b[0m     \u001b[0mmat\u001b[0m \u001b[0;34m=\u001b[0m \u001b[0mget_toy_mat\u001b[0m\u001b[0;34m(\u001b[0m\u001b[0;34m)\u001b[0m\u001b[0;34m\u001b[0m\u001b[0;34m\u001b[0m\u001b[0m\n\u001b[0;32m----> 7\u001b[0;31m     \u001b[0mg\u001b[0m \u001b[0;34m=\u001b[0m \u001b[0mGraph\u001b[0m\u001b[0;34m.\u001b[0m\u001b[0mAdjacency\u001b[0m\u001b[0;34m(\u001b[0m\u001b[0;34m(\u001b[0m\u001b[0mmat\u001b[0m \u001b[0;34m>\u001b[0m \u001b[0;36m0\u001b[0m\u001b[0;34m)\u001b[0m\u001b[0;34m.\u001b[0m\u001b[0mtolist\u001b[0m\u001b[0;34m(\u001b[0m\u001b[0;34m)\u001b[0m\u001b[0;34m,\u001b[0m \u001b[0mmode\u001b[0m\u001b[0;34m=\u001b[0m\u001b[0mADJ_UNDIRECTED\u001b[0m\u001b[0;34m)\u001b[0m\u001b[0;34m\u001b[0m\u001b[0;34m\u001b[0m\u001b[0m\n\u001b[0m\u001b[1;32m      8\u001b[0m     \u001b[0mg\u001b[0m\u001b[0;34m.\u001b[0m\u001b[0mvs\u001b[0m\u001b[0;34m[\u001b[0m\u001b[0;34m\"label\"\u001b[0m\u001b[0;34m]\u001b[0m \u001b[0;34m=\u001b[0m \u001b[0;34m[\u001b[0m\u001b[0;34m'A'\u001b[0m\u001b[0;34m,\u001b[0m \u001b[0;34m'B'\u001b[0m\u001b[0;34m,\u001b[0m \u001b[0;34m'C'\u001b[0m\u001b[0;34m,\u001b[0m \u001b[0;34m'D'\u001b[0m\u001b[0;34m,\u001b[0m \u001b[0;34m'E'\u001b[0m\u001b[0;34m,\u001b[0m \u001b[0;34m'F'\u001b[0m\u001b[0;34m,\u001b[0m \u001b[0;34m'G'\u001b[0m\u001b[0;34m]\u001b[0m\u001b[0;34m\u001b[0m\u001b[0;34m\u001b[0m\u001b[0m\n\u001b[1;32m      9\u001b[0m     \u001b[0;32mreturn\u001b[0m \u001b[0mg\u001b[0m\u001b[0;34m\u001b[0m\u001b[0;34m\u001b[0m\u001b[0m\n",
      "\u001b[0;31mNameError\u001b[0m: name 'Graph' is not defined"
     ]
    }
   ],
   "source": [
    "import numpy as np\n",
    "import igraph\n",
    "\n",
    "from networks_lib.toygraph import *\n",
    "\n",
    "toy_mat = get_toy_mat()\n",
    "plot_toy()"
   ]
  },
  {
   "cell_type": "code",
   "execution_count": 21,
   "metadata": {},
   "outputs": [
    {
     "data": {
      "text/plain": [
       "array([[0, 1, 1, 0, 0, 0, 0],\n",
       "       [1, 0, 1, 1, 0, 0, 0],\n",
       "       [1, 1, 0, 0, 0, 0, 0],\n",
       "       [0, 1, 0, 0, 1, 1, 1],\n",
       "       [0, 0, 0, 1, 0, 0, 1],\n",
       "       [0, 0, 0, 1, 0, 0, 1],\n",
       "       [0, 0, 0, 1, 1, 1, 0]])"
      ]
     },
     "execution_count": 21,
     "metadata": {},
     "output_type": "execute_result"
    }
   ],
   "source": [
    "# This is the adjacency matrix for the graph\n",
    "# rows and columns are in alphabetical order A-G\n",
    "toy_mat"
   ]
  },
  {
   "cell_type": "markdown",
   "metadata": {},
   "source": [
    "### Part A: Warm-up \n",
    "\n",
    "**Problem 1** What is the degree of each node in the graph?\n",
    "\n",
    "**TODO**: Fill this in A: 2, B: 3, C: 2, D: 4, E: 2, F: 2, G:3\n",
    "\n",
    "**Problem 2** Compute degrees from the adjacency matrix and compare to your answer"
   ]
  },
  {
   "cell_type": "code",
   "execution_count": 22,
   "metadata": {},
   "outputs": [],
   "source": [
    "## write out your answer to Problem 1\n",
    "toy_deg_answer = np.array([2, 3, 2, 4, 2, 2, 3])\n",
    "\n",
    "## compute the degrees from the adjacency matrix\n",
    "toy_deg = np.sum(toy_mat, axis=0)\n",
    "## check this assertion passes\n",
    "assert(np.all(toy_deg_answer == toy_deg))"
   ]
  },
  {
   "cell_type": "markdown",
   "metadata": {},
   "source": [
    "**Problem 3** Use the adjacency matrix to find the neighbors of node F"
   ]
  },
  {
   "cell_type": "code",
   "execution_count": 23,
   "metadata": {},
   "outputs": [
    {
     "name": "stdout",
     "output_type": "stream",
     "text": [
      "<class 'numpy.ndarray'>\n"
     ]
    }
   ],
   "source": [
    "## write out the neighbors of node F by hand (I gave you one of them)\n",
    "f_neighbors_answer = np.array([3, 6])\n",
    "\n",
    "## use the adjacency matrix to find the neighbors\n",
    "f_neighbors = np.where(toy_mat[5, :] > 0)[0]\n",
    "print(type(f_neighbors))\n",
    "## check this assertion passes\n",
    "assert(np.all(f_neighbors_answer == f_neighbors))"
   ]
  },
  {
   "cell_type": "markdown",
   "metadata": {},
   "source": [
    "### Part B: All pairwise-distances\n",
    "\n",
    "The distance between two nodes in the network is the length of the shortest path in the network. In this section we are going to use breadth-first-search to compute all pairwise distances.\n",
    "\n",
    "The algorithm will roughly work as follows:\n",
    "\n",
    "<pre>\n",
    "Input: Adjacency matrix of size n by n  \n",
    "Output: Distance matrix `dist` of size n by n  \n",
    "    - For each vertex `u` in the network  \n",
    "    - Create boolean array `visited` of length n   \n",
    "    - Initialize all vertices u as `visited[u]=False`  \n",
    "    - Push tuple `(u, 0)` to a (first-in-first-out) queue `Q`  \n",
    "    - While `Q` is not empty:  \n",
    "        - Pop tuple `(v,d)` from the top of `Q`  \n",
    "        - Set `visited[v]=True`  \n",
    "        - Set distance `dist[u,v]=d`  \n",
    "        - For each neighbor `w` of `v`  \n",
    "            - if `visited[w]=False`, push tuple `(w, d+1)` to `Q`  \n",
    "</pre>\n",
    "\n",
    "In python you can use the [collections.deque](https://docs.python.org/2/library/collections.html#collections.deque) module to implement the FIFO queue. You can `append` (to the right) to push, and `popleft` to pop (from the left)."
   ]
  },
  {
   "cell_type": "markdown",
   "metadata": {},
   "source": [
    "**Problem 1** Implement and test the algorithm for all pairwise distances."
   ]
  },
  {
   "cell_type": "code",
   "execution_count": 24,
   "metadata": {},
   "outputs": [
    {
     "name": "stdout",
     "output_type": "stream",
     "text": [
      "[[0. 1. 1. 2. 3. 3. 3.]\n",
      " [1. 0. 1. 1. 2. 2. 2.]\n",
      " [1. 1. 0. 2. 3. 3. 3.]\n",
      " [2. 1. 2. 0. 1. 1. 1.]\n",
      " [3. 2. 3. 1. 0. 2. 1.]\n",
      " [3. 2. 3. 1. 2. 0. 1.]\n",
      " [3. 2. 3. 1. 1. 1. 0.]]\n"
     ]
    }
   ],
   "source": [
    "from networks_lib.distance import bfs_distance\n",
    "\n",
    "## Write out by hand the distance matrix for our toy graph\n",
    "## expected_dist[0:1,0:1] is correct below, fill in the rest\n",
    "expected_dist = np.array([[0, 1, 1, 2, 3, 3, 3],\n",
    " [1, 0, 1, 1, 2, 2, 2],\n",
    " [1, 1, 0, 2, 3, 3, 3],\n",
    " [2, 1, 2, 0, 1, 1, 1],\n",
    " [3, 2, 3, 1, 0, 2, 1],\n",
    " [3, 2, 3, 1, 2, 0, 1],\n",
    " [3, 2, 3, 1, 1, 1, 0]])\n",
    "                         \n",
    "## Implement your BFS all pairwise distance algorithm\n",
    "## Do so in the `networks_lib.distance` module\n",
    "toy_dist = bfs_distance(toy_mat)\n",
    "print(toy_dist)\n",
    "## check this assertion is true\n",
    "assert(np.all(expected_dist == toy_dist))"
   ]
  },
  {
   "cell_type": "markdown",
   "metadata": {},
   "source": [
    "**Problem 2** Using distance to find graph components. Let's make a copy of the network adjacency matrix and remove edge `B-D`."
   ]
  },
  {
   "cell_type": "code",
   "execution_count": 25,
   "metadata": {},
   "outputs": [
    {
     "name": "stdout",
     "output_type": "stream",
     "text": [
      "[[0 1 1 0 0 0 0]\n",
      " [1 0 1 0 0 0 0]\n",
      " [1 1 0 0 0 0 0]\n",
      " [0 0 0 0 1 1 1]\n",
      " [0 0 0 1 0 0 1]\n",
      " [0 0 0 1 0 0 1]\n",
      " [0 0 0 1 1 1 0]]\n",
      "[[0. 1. 1. 2. 3. 3. 3.]\n",
      " [1. 0. 1. 1. 2. 2. 2.]\n",
      " [1. 1. 0. 2. 3. 3. 3.]\n",
      " [2. 1. 2. 0. 1. 1. 1.]\n",
      " [3. 2. 3. 1. 0. 2. 1.]\n",
      " [3. 2. 3. 1. 2. 0. 1.]\n",
      " [3. 2. 3. 1. 1. 1. 0.]]\n",
      "[[ 0.  1.  1. inf inf inf inf]\n",
      " [ 1.  0.  1. inf inf inf inf]\n",
      " [ 1.  1.  0. inf inf inf inf]\n",
      " [inf inf inf  0.  1.  1.  1.]\n",
      " [inf inf inf  1.  0.  2.  1.]\n",
      " [inf inf inf  1.  2.  0.  1.]\n",
      " [inf inf inf  1.  1.  1.  0.]]\n"
     ]
    }
   ],
   "source": [
    "toy_copy = toy_mat.copy()\n",
    "toy_copy[1,3] = 0\n",
    "toy_copy[3,1] = 0\n",
    "print(toy_copy)\n",
    "toy_d = bfs_distance(toy_copy)\n",
    "print(toy_dist)\n",
    "print(toy_d)"
   ]
  },
  {
   "cell_type": "markdown",
   "metadata": {},
   "source": [
    "The resulting network has two components (A,B,C) and (D,E,F,G). We can use a distance matrix to identify those components since any pair of nodes `u` and `v` for which `d(u,v)< np.inf` \n",
    "are reachable (means there is a path between `u` and `v`).\n",
    "\n",
    "The procedure will roughly be:\n",
    "\n",
    "<pre>\n",
    "- mark all vertices are `unused`\n",
    "- while any nodes are `unused`:\n",
    "  - choose any unused node `u`\n",
    "  - return `u` and all vertices `v` with `d(u,v) < np.inf` as a component and mark as used.\n",
    "</pre>"
   ]
  },
  {
   "cell_type": "code",
   "execution_count": 26,
   "metadata": {},
   "outputs": [
    {
     "name": "stdout",
     "output_type": "stream",
     "text": [
      "[array([0, 1, 2]), array([3, 4, 5, 6])]\n",
      "[array([0, 1, 2]), array([3, 4, 5, 6])]\n",
      "2\n",
      "[(array([0, 1, 2]), array([0, 1, 2])), (array([3, 4, 5, 6]), array([3, 4, 5, 6]))]\n"
     ]
    }
   ],
   "source": [
    "from networks_lib.distance import get_components\n",
    "\n",
    "## these are the expected components for the new graph\n",
    "expected_components = [np.array([0,1,2]), np.array([3,4,5,6])]\n",
    "\n",
    "## implement the component finding function based on your distance matrix\n",
    "components = get_components(toy_copy)\n",
    "\n",
    "## make this assertion pass\n",
    "print(expected_components)\n",
    "print(components)\n",
    "print(len(components))\n",
    "print([(x, y) for (x,y) in zip(expected_components,components)])\n",
    "assert(all([np.all(x == y) for (x,y) in zip(expected_components,components)]))"
   ]
  },
  {
   "cell_type": "markdown",
   "metadata": {},
   "source": [
    "### Part C: Edge Betweeness\n",
    "\n",
    "In this section you will implement the edge betweenness algorithm described in book and lecture notes as part of the Girvan-Newman algorithm. \n",
    "\n",
    "**Problem 1** Implement the breadth-first algorithm to compute the number of shortest paths starting from a specific vertex going through each edge in the graph."
   ]
  },
  {
   "cell_type": "code",
   "execution_count": 27,
   "metadata": {},
   "outputs": [],
   "source": [
    "from networks_lib.betweenness import edge_counts\n",
    "\n",
    "## Write out by hand a matrix containing the shortest path count starting from vertex E.\n",
    "## In the result matrix entry i,j has the count for the edge i-j in the graph.\n",
    "## This was shown as an example in lecture notes.\n",
    "##\n",
    "## expected_dist[0:1,0:1] is correct below, fill in the rest\n",
    "expected_counts = np.array([[0,1,0,  0,   0,   0,   0],\n",
    "                            [1,0,1,  3,   0,   0,   0],\n",
    "                            [0,1,0,  0,   0,   0,   0],\n",
    "                            [0,3,0,  0,  4.5, 0.5,  0],\n",
    "                            [0,0,0,  4.5, 0,  0,    1.5],\n",
    "                            [0,0,0,  0.5, 0,  0,    0.5],\n",
    "                            [0,0,0,  0,  1.5, 0.5,  0]])\n",
    "\n",
    "## implement the function edge_count \n",
    "counts = edge_counts(4, toy_mat)\n",
    "\n",
    "## make sure this assertion passes\n",
    "assert(np.all(counts == expected_counts))"
   ]
  },
  {
   "cell_type": "markdown",
   "metadata": {},
   "source": [
    "**Problem 2**: Confirm the edge betweenness function works properly by comparing result to\n",
    "igraph's computation"
   ]
  },
  {
   "cell_type": "code",
   "execution_count": 28,
   "metadata": {},
   "outputs": [
    {
     "ename": "NameError",
     "evalue": "name 'Graph' is not defined",
     "output_type": "error",
     "traceback": [
      "\u001b[0;31m---------------------------------------------------------------------------\u001b[0m",
      "\u001b[0;31mNameError\u001b[0m                                 Traceback (most recent call last)",
      "\u001b[0;32m<ipython-input-28-dcdf83a3f6ea>\u001b[0m in \u001b[0;36m<module>\u001b[0;34m()\u001b[0m\n\u001b[1;32m      3\u001b[0m \u001b[0;34m\u001b[0m\u001b[0m\n\u001b[1;32m      4\u001b[0m \u001b[0;31m## compute edge betweenness using igraph\u001b[0m\u001b[0;34m\u001b[0m\u001b[0;34m\u001b[0m\u001b[0;34m\u001b[0m\u001b[0m\n\u001b[0;32m----> 5\u001b[0;31m \u001b[0mg\u001b[0m \u001b[0;34m=\u001b[0m \u001b[0mget_toy_graph\u001b[0m\u001b[0;34m(\u001b[0m\u001b[0;34m)\u001b[0m\u001b[0;34m\u001b[0m\u001b[0;34m\u001b[0m\u001b[0m\n\u001b[0m\u001b[1;32m      6\u001b[0m \u001b[0mexpected_betweenness\u001b[0m \u001b[0;34m=\u001b[0m \u001b[0mg\u001b[0m\u001b[0;34m.\u001b[0m\u001b[0medge_betweenness\u001b[0m\u001b[0;34m(\u001b[0m\u001b[0;34m)\u001b[0m\u001b[0;34m\u001b[0m\u001b[0;34m\u001b[0m\u001b[0m\n\u001b[1;32m      7\u001b[0m \u001b[0;34m\u001b[0m\u001b[0m\n",
      "\u001b[0;32m~/Desktop/DATA606/pp2/data606-networks-yzhan112/networks_lib/toygraph.py\u001b[0m in \u001b[0;36mget_toy_graph\u001b[0;34m()\u001b[0m\n\u001b[1;32m      5\u001b[0m \u001b[0;32mdef\u001b[0m \u001b[0mget_toy_graph\u001b[0m\u001b[0;34m(\u001b[0m\u001b[0;34m)\u001b[0m\u001b[0;34m:\u001b[0m\u001b[0;34m\u001b[0m\u001b[0;34m\u001b[0m\u001b[0m\n\u001b[1;32m      6\u001b[0m     \u001b[0mmat\u001b[0m \u001b[0;34m=\u001b[0m \u001b[0mget_toy_mat\u001b[0m\u001b[0;34m(\u001b[0m\u001b[0;34m)\u001b[0m\u001b[0;34m\u001b[0m\u001b[0;34m\u001b[0m\u001b[0m\n\u001b[0;32m----> 7\u001b[0;31m     \u001b[0mg\u001b[0m \u001b[0;34m=\u001b[0m \u001b[0mGraph\u001b[0m\u001b[0;34m.\u001b[0m\u001b[0mAdjacency\u001b[0m\u001b[0;34m(\u001b[0m\u001b[0;34m(\u001b[0m\u001b[0mmat\u001b[0m \u001b[0;34m>\u001b[0m \u001b[0;36m0\u001b[0m\u001b[0;34m)\u001b[0m\u001b[0;34m.\u001b[0m\u001b[0mtolist\u001b[0m\u001b[0;34m(\u001b[0m\u001b[0;34m)\u001b[0m\u001b[0;34m,\u001b[0m \u001b[0mmode\u001b[0m\u001b[0;34m=\u001b[0m\u001b[0mADJ_UNDIRECTED\u001b[0m\u001b[0;34m)\u001b[0m\u001b[0;34m\u001b[0m\u001b[0;34m\u001b[0m\u001b[0m\n\u001b[0m\u001b[1;32m      8\u001b[0m     \u001b[0mg\u001b[0m\u001b[0;34m.\u001b[0m\u001b[0mvs\u001b[0m\u001b[0;34m[\u001b[0m\u001b[0;34m\"label\"\u001b[0m\u001b[0;34m]\u001b[0m \u001b[0;34m=\u001b[0m \u001b[0;34m[\u001b[0m\u001b[0;34m'A'\u001b[0m\u001b[0;34m,\u001b[0m \u001b[0;34m'B'\u001b[0m\u001b[0;34m,\u001b[0m \u001b[0;34m'C'\u001b[0m\u001b[0;34m,\u001b[0m \u001b[0;34m'D'\u001b[0m\u001b[0;34m,\u001b[0m \u001b[0;34m'E'\u001b[0m\u001b[0;34m,\u001b[0m \u001b[0;34m'F'\u001b[0m\u001b[0;34m,\u001b[0m \u001b[0;34m'G'\u001b[0m\u001b[0;34m]\u001b[0m\u001b[0;34m\u001b[0m\u001b[0;34m\u001b[0m\u001b[0m\n\u001b[1;32m      9\u001b[0m     \u001b[0;32mreturn\u001b[0m \u001b[0mg\u001b[0m\u001b[0;34m\u001b[0m\u001b[0;34m\u001b[0m\u001b[0m\n",
      "\u001b[0;31mNameError\u001b[0m: name 'Graph' is not defined"
     ]
    }
   ],
   "source": [
    "from networks_lib.betweenness import edge_betweenness\n",
    "from networks_lib.toygraph import get_toy_graph\n",
    "\n",
    "## compute edge betweenness using igraph\n",
    "g = get_toy_graph()\n",
    "expected_betweenness = g.edge_betweenness()\n",
    "\n",
    "## after implementing the `edge_counts` function above\n",
    "toy_betweenness = edge_betweenness(toy_mat)\n",
    "toy_betweeness\n",
    "assert(np.all(expected_betweenness == np.triu(toy_betweenness)[np.where(np.triu(toy_mat)>0)]))"
   ]
  },
  {
   "cell_type": "markdown",
   "metadata": {},
   "source": [
    "### Part D: Girvan-Newman community finding\n",
    "\n",
    "Now we use all of the above to do community analysis on the graph.\n",
    "\n",
    "The procedure should be as follows\n",
    "\n",
    "<pre>\n",
    "Input: adjacency matrix, and number of communities K\n",
    "Output: array of community assignments\n",
    "\n",
    "set components = [ [all vertices] ]\n",
    "while number of components < K:\n",
    "    - compute edge betweenness (edge_betweenness)\n",
    "    - remove edge with highest edge betweenness\n",
    "    - find components in the graph (get_components)\n",
    "return an array with community assignments \n",
    "</pre>"
   ]
  },
  {
   "cell_type": "code",
   "execution_count": 29,
   "metadata": {},
   "outputs": [
    {
     "name": "stdout",
     "output_type": "stream",
     "text": [
      "[0.0, 0.0, 0.0, 1.0, 1.0, 1.0, 1.0]\n"
     ]
    }
   ],
   "source": [
    "import igraph\n",
    "from networks_lib.toygraph import get_toy_graph\n",
    "from networks_lib.communities import girvan_newman\n",
    "\n",
    "## Let's use igraph to find 2 communities in the toy example\n",
    "#g = get_toy_graph()\n",
    "#expected_assignment = g.community_edge_betweenness(clusters=2).as_clustering().membership\n",
    "#expected_assignment\n",
    "\n",
    "## Implement the girvan-newman algorithm\n",
    "assignment = girvan_newman(toy_mat, 2)\n",
    "\n",
    "## make this assertion pass\n",
    "assert(np.all(assignment == np.array(assignment)))"
   ]
  },
  {
   "cell_type": "markdown",
   "metadata": {},
   "source": [
    "### Part E: K-mediods clustering\n",
    "\n",
    "Now we use K-mediods clustering on the graph distance matrix. We will build the algorithm in steps.\n",
    "\n",
    "**Problem 1**: Implement random initialization "
   ]
  },
  {
   "cell_type": "code",
   "execution_count": 108,
   "metadata": {},
   "outputs": [
    {
     "name": "stdout",
     "output_type": "stream",
     "text": [
      "[6 3]\n",
      "<class 'numpy.ndarray'>\n"
     ]
    }
   ],
   "source": [
    "from networks_lib.kmedioids import random_init\n",
    "from networks_lib.distance import bfs_distance\n",
    "\n",
    "toy_dist = bfs_distance(toy_mat)\n",
    "medioids = random_init(toy_dist, 2)\n",
    "\n",
    "assert(len(medioids) == 2)"
   ]
  },
  {
   "cell_type": "markdown",
   "metadata": {},
   "source": [
    "**Problem 2**: Now let's implement the assignment function, given medioids, assign each vertex\n",
    "to the nearest medioid"
   ]
  },
  {
   "cell_type": "code",
   "execution_count": 115,
   "metadata": {},
   "outputs": [
    {
     "name": "stdout",
     "output_type": "stream",
     "text": [
      "0 min_dist 1.0, index: 0\n",
      "2 min_dist 1.0, index: 0\n",
      "3 min_dist 1.0, index: 0\n",
      "5 min_dist 2.0, index: 0\n",
      "6 min_dist 1.0, index: 1\n",
      "[0.0, 0.0, 0.0, 0.0, 1.0, 0.0, 1.0]\n",
      "[0.0, 0.0, 0.0, 0.0, 1.0, 0.0, 1.0]\n"
     ]
    }
   ],
   "source": [
    "from networks_lib.kmedioids import assign\n",
    "\n",
    "# suppose vertices 'B' and 'E' are chosen\n",
    "medioids = np.array([1, 4])\n",
    "\n",
    "#print(toy_dist)\n",
    "# correct this assignment\n",
    "expected_assignment = np.array([0, 0, 0, 0, 1, 0, 1])\n",
    "\n",
    "# compute assignment\n",
    "assignment = assign(toy_dist, medioids)\n",
    "print(assignment)\n",
    "\n",
    "assert(np.all(expected_assignment == assignment))"
   ]
  },
  {
   "cell_type": "markdown",
   "metadata": {},
   "source": [
    "**Problem 3**: Now implement a function to determine medioids given an assignment"
   ]
  },
  {
   "cell_type": "code",
   "execution_count": 114,
   "metadata": {},
   "outputs": [
    {
     "name": "stdout",
     "output_type": "stream",
     "text": [
      "[0. 3.]\n"
     ]
    }
   ],
   "source": [
    "from networks_lib.kmedioids import get_medioids\n",
    "\n",
    "# In this case all but 'A' are assigned to one cluster\n",
    "assignment = np.array([0, 1, 1, 1, 1, 1, 1])\n",
    "\n",
    "# what would the medioids be in that case?\n",
    "expected_medioids = np.array([0, 3])\n",
    "\n",
    "# implement the get_medioids function\n",
    "medioids = get_medioids(toy_dist, assignment, 2)\n",
    "print(medioids)\n",
    "\n",
    "# make this assertion work\n",
    "assert(np.all(expected_medioids == medioids))"
   ]
  },
  {
   "cell_type": "markdown",
   "metadata": {},
   "source": [
    "**Problem 4**: Finish implementing k-medioids"
   ]
  },
  {
   "cell_type": "code",
   "execution_count": 140,
   "metadata": {},
   "outputs": [
    {
     "name": "stdout",
     "output_type": "stream",
     "text": [
      "[5 2]\n",
      "<class 'numpy.ndarray'>\n",
      "0 min_dist 1.0, index: 1\n",
      "1 min_dist 1.0, index: 1\n",
      "3 min_dist 1.0, index: 0\n",
      "4 min_dist 2.0, index: 0\n",
      "6 min_dist 1.0, index: 0\n",
      "1 min_dist 1.0, index: 0\n",
      "2 min_dist 1.0, index: 0\n",
      "4 min_dist 1.0, index: 1\n",
      "5 min_dist 1.0, index: 1\n",
      "6 min_dist 1.0, index: 1\n",
      "1 min_dist 1.0, index: 0\n",
      "2 min_dist 1.0, index: 0\n",
      "4 min_dist 1.0, index: 1\n",
      "5 min_dist 1.0, index: 1\n",
      "6 min_dist 1.0, index: 1\n",
      "1 min_dist 1.0, index: 0\n",
      "2 min_dist 1.0, index: 0\n",
      "4 min_dist 1.0, index: 1\n",
      "5 min_dist 1.0, index: 1\n",
      "6 min_dist 1.0, index: 1\n",
      "1 min_dist 1.0, index: 0\n",
      "2 min_dist 1.0, index: 0\n",
      "4 min_dist 1.0, index: 1\n",
      "5 min_dist 1.0, index: 1\n",
      "6 min_dist 1.0, index: 1\n",
      "1 min_dist 1.0, index: 0\n",
      "2 min_dist 1.0, index: 0\n",
      "4 min_dist 1.0, index: 1\n",
      "5 min_dist 1.0, index: 1\n",
      "6 min_dist 1.0, index: 1\n",
      "1 min_dist 1.0, index: 0\n",
      "2 min_dist 1.0, index: 0\n",
      "4 min_dist 1.0, index: 1\n",
      "5 min_dist 1.0, index: 1\n",
      "6 min_dist 1.0, index: 1\n",
      "1 min_dist 1.0, index: 0\n",
      "2 min_dist 1.0, index: 0\n",
      "4 min_dist 1.0, index: 1\n",
      "5 min_dist 1.0, index: 1\n",
      "6 min_dist 1.0, index: 1\n",
      "1 min_dist 1.0, index: 0\n",
      "2 min_dist 1.0, index: 0\n",
      "4 min_dist 1.0, index: 1\n",
      "5 min_dist 1.0, index: 1\n",
      "6 min_dist 1.0, index: 1\n",
      "1 min_dist 1.0, index: 0\n",
      "2 min_dist 1.0, index: 0\n",
      "4 min_dist 1.0, index: 1\n",
      "5 min_dist 1.0, index: 1\n",
      "6 min_dist 1.0, index: 1\n"
     ]
    }
   ],
   "source": [
    "from networks_lib.kmedioids import kmedioids\n",
    "\n",
    "kmeds_assign = kmedioids(toy_dist, 2)\n",
    "kmeds_assign\n",
    "\n",
    "## make this assertion pass\n",
    "assert(np.all(kmeds_assign < 2))"
   ]
  },
  {
   "cell_type": "code",
   "execution_count": null,
   "metadata": {},
   "outputs": [],
   "source": []
  }
 ],
 "metadata": {
  "kernelspec": {
   "display_name": "Python 3",
   "language": "python",
   "name": "python3"
  },
  "language_info": {
   "codemirror_mode": {
    "name": "ipython",
    "version": 3
   },
   "file_extension": ".py",
   "mimetype": "text/x-python",
   "name": "python",
   "nbconvert_exporter": "python",
   "pygments_lexer": "ipython3",
   "version": "3.7.2"
  }
 },
 "nbformat": 4,
 "nbformat_minor": 4
}
